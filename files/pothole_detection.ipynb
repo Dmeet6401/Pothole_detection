{
  "nbformat": 4,
  "nbformat_minor": 0,
  "metadata": {
    "colab": {
      "provenance": []
    },
    "kernelspec": {
      "name": "python3",
      "display_name": "Python 3"
    },
    "language_info": {
      "name": "python"
    },
    "accelerator": "GPU",
    "gpuClass": "standard"
  },
  "cells": [
    {
      "cell_type": "code",
      "execution_count": null,
      "metadata": {
        "colab": {
          "base_uri": "https://localhost:8080/"
        },
        "id": "LBqECNr9JJJ9",
        "outputId": "428c401b-5c3e-4138-8e68-6369654de233"
      },
      "outputs": [
        {
          "output_type": "stream",
          "name": "stdout",
          "text": [
            "done\n"
          ]
        }
      ],
      "source": [
        "from zipfile import ZipFile\n",
        "file_name = \"/content/drive/MyDrive/Colab Notebooks/Computer_Vision/detection/Pothole.v1-raw.yolov5pytorch.zip\"\n",
        "with ZipFile(file_name, 'r') as zip:\n",
        "  zip.extractall('/content/drive/MyDrive/Colab Notebooks/Computer_Vision/detection/pothole')\n",
        "  print('done')"
      ]
    },
    {
      "cell_type": "code",
      "source": [
        "%cd /content/drive/MyDrive/Colab Notebooks/Computer_Vision/detection/pothole"
      ],
      "metadata": {
        "colab": {
          "base_uri": "https://localhost:8080/"
        },
        "id": "4kcxOzp7wgrv",
        "outputId": "06e3cf78-4aa6-4e09-ac1b-8b16f07cbe23"
      },
      "execution_count": 2,
      "outputs": [
        {
          "output_type": "stream",
          "name": "stdout",
          "text": [
            "/content/drive/MyDrive/Colab Notebooks/Computer_Vision/detection/pothole\n"
          ]
        }
      ]
    },
    {
      "cell_type": "code",
      "source": [
        "! pip install -qr https://raw.githubusercontent.com/ultralytics/yolov5/master/requirements.txt"
      ],
      "metadata": {
        "colab": {
          "base_uri": "https://localhost:8080/"
        },
        "id": "njF4wlYjxjaS",
        "outputId": "87fe1099-d272-4184-f6a9-310e31c11008"
      },
      "execution_count": null,
      "outputs": [
        {
          "output_type": "stream",
          "name": "stdout",
          "text": [
            "\u001b[?25l\r\u001b[K     |▏                               | 10 kB 20.7 MB/s eta 0:00:01\r\u001b[K     |▍                               | 20 kB 7.8 MB/s eta 0:00:01\r\u001b[K     |▋                               | 30 kB 10.8 MB/s eta 0:00:01\r\u001b[K     |▉                               | 40 kB 4.5 MB/s eta 0:00:01\r\u001b[K     |█                               | 51 kB 4.8 MB/s eta 0:00:01\r\u001b[K     |█▎                              | 61 kB 5.7 MB/s eta 0:00:01\r\u001b[K     |█▌                              | 71 kB 5.5 MB/s eta 0:00:01\r\u001b[K     |█▊                              | 81 kB 5.6 MB/s eta 0:00:01\r\u001b[K     |█▉                              | 92 kB 6.2 MB/s eta 0:00:01\r\u001b[K     |██                              | 102 kB 5.2 MB/s eta 0:00:01\r\u001b[K     |██▎                             | 112 kB 5.2 MB/s eta 0:00:01\r\u001b[K     |██▌                             | 122 kB 5.2 MB/s eta 0:00:01\r\u001b[K     |██▊                             | 133 kB 5.2 MB/s eta 0:00:01\r\u001b[K     |███                             | 143 kB 5.2 MB/s eta 0:00:01\r\u001b[K     |███▏                            | 153 kB 5.2 MB/s eta 0:00:01\r\u001b[K     |███▍                            | 163 kB 5.2 MB/s eta 0:00:01\r\u001b[K     |███▌                            | 174 kB 5.2 MB/s eta 0:00:01\r\u001b[K     |███▊                            | 184 kB 5.2 MB/s eta 0:00:01\r\u001b[K     |████                            | 194 kB 5.2 MB/s eta 0:00:01\r\u001b[K     |████▏                           | 204 kB 5.2 MB/s eta 0:00:01\r\u001b[K     |████▍                           | 215 kB 5.2 MB/s eta 0:00:01\r\u001b[K     |████▋                           | 225 kB 5.2 MB/s eta 0:00:01\r\u001b[K     |████▉                           | 235 kB 5.2 MB/s eta 0:00:01\r\u001b[K     |█████                           | 245 kB 5.2 MB/s eta 0:00:01\r\u001b[K     |█████▎                          | 256 kB 5.2 MB/s eta 0:00:01\r\u001b[K     |█████▍                          | 266 kB 5.2 MB/s eta 0:00:01\r\u001b[K     |█████▋                          | 276 kB 5.2 MB/s eta 0:00:01\r\u001b[K     |█████▉                          | 286 kB 5.2 MB/s eta 0:00:01\r\u001b[K     |██████                          | 296 kB 5.2 MB/s eta 0:00:01\r\u001b[K     |██████▎                         | 307 kB 5.2 MB/s eta 0:00:01\r\u001b[K     |██████▌                         | 317 kB 5.2 MB/s eta 0:00:01\r\u001b[K     |██████▊                         | 327 kB 5.2 MB/s eta 0:00:01\r\u001b[K     |███████                         | 337 kB 5.2 MB/s eta 0:00:01\r\u001b[K     |███████                         | 348 kB 5.2 MB/s eta 0:00:01\r\u001b[K     |███████▎                        | 358 kB 5.2 MB/s eta 0:00:01\r\u001b[K     |███████▌                        | 368 kB 5.2 MB/s eta 0:00:01\r\u001b[K     |███████▊                        | 378 kB 5.2 MB/s eta 0:00:01\r\u001b[K     |████████                        | 389 kB 5.2 MB/s eta 0:00:01\r\u001b[K     |████████▏                       | 399 kB 5.2 MB/s eta 0:00:01\r\u001b[K     |████████▍                       | 409 kB 5.2 MB/s eta 0:00:01\r\u001b[K     |████████▋                       | 419 kB 5.2 MB/s eta 0:00:01\r\u001b[K     |████████▉                       | 430 kB 5.2 MB/s eta 0:00:01\r\u001b[K     |█████████                       | 440 kB 5.2 MB/s eta 0:00:01\r\u001b[K     |█████████▏                      | 450 kB 5.2 MB/s eta 0:00:01\r\u001b[K     |█████████▍                      | 460 kB 5.2 MB/s eta 0:00:01\r\u001b[K     |█████████▋                      | 471 kB 5.2 MB/s eta 0:00:01\r\u001b[K     |█████████▉                      | 481 kB 5.2 MB/s eta 0:00:01\r\u001b[K     |██████████                      | 491 kB 5.2 MB/s eta 0:00:01\r\u001b[K     |██████████▎                     | 501 kB 5.2 MB/s eta 0:00:01\r\u001b[K     |██████████▌                     | 512 kB 5.2 MB/s eta 0:00:01\r\u001b[K     |██████████▋                     | 522 kB 5.2 MB/s eta 0:00:01\r\u001b[K     |██████████▉                     | 532 kB 5.2 MB/s eta 0:00:01\r\u001b[K     |███████████                     | 542 kB 5.2 MB/s eta 0:00:01\r\u001b[K     |███████████▎                    | 552 kB 5.2 MB/s eta 0:00:01\r\u001b[K     |███████████▌                    | 563 kB 5.2 MB/s eta 0:00:01\r\u001b[K     |███████████▊                    | 573 kB 5.2 MB/s eta 0:00:01\r\u001b[K     |████████████                    | 583 kB 5.2 MB/s eta 0:00:01\r\u001b[K     |████████████▏                   | 593 kB 5.2 MB/s eta 0:00:01\r\u001b[K     |████████████▍                   | 604 kB 5.2 MB/s eta 0:00:01\r\u001b[K     |████████████▌                   | 614 kB 5.2 MB/s eta 0:00:01\r\u001b[K     |████████████▊                   | 624 kB 5.2 MB/s eta 0:00:01\r\u001b[K     |█████████████                   | 634 kB 5.2 MB/s eta 0:00:01\r\u001b[K     |█████████████▏                  | 645 kB 5.2 MB/s eta 0:00:01\r\u001b[K     |█████████████▍                  | 655 kB 5.2 MB/s eta 0:00:01\r\u001b[K     |█████████████▋                  | 665 kB 5.2 MB/s eta 0:00:01\r\u001b[K     |█████████████▉                  | 675 kB 5.2 MB/s eta 0:00:01\r\u001b[K     |██████████████                  | 686 kB 5.2 MB/s eta 0:00:01\r\u001b[K     |██████████████▏                 | 696 kB 5.2 MB/s eta 0:00:01\r\u001b[K     |██████████████▍                 | 706 kB 5.2 MB/s eta 0:00:01\r\u001b[K     |██████████████▋                 | 716 kB 5.2 MB/s eta 0:00:01\r\u001b[K     |██████████████▉                 | 727 kB 5.2 MB/s eta 0:00:01\r\u001b[K     |███████████████                 | 737 kB 5.2 MB/s eta 0:00:01\r\u001b[K     |███████████████▎                | 747 kB 5.2 MB/s eta 0:00:01\r\u001b[K     |███████████████▌                | 757 kB 5.2 MB/s eta 0:00:01\r\u001b[K     |███████████████▊                | 768 kB 5.2 MB/s eta 0:00:01\r\u001b[K     |████████████████                | 778 kB 5.2 MB/s eta 0:00:01\r\u001b[K     |████████████████                | 788 kB 5.2 MB/s eta 0:00:01\r\u001b[K     |████████████████▎               | 798 kB 5.2 MB/s eta 0:00:01\r\u001b[K     |████████████████▌               | 808 kB 5.2 MB/s eta 0:00:01\r\u001b[K     |████████████████▊               | 819 kB 5.2 MB/s eta 0:00:01\r\u001b[K     |█████████████████               | 829 kB 5.2 MB/s eta 0:00:01\r\u001b[K     |█████████████████▏              | 839 kB 5.2 MB/s eta 0:00:01\r\u001b[K     |█████████████████▍              | 849 kB 5.2 MB/s eta 0:00:01\r\u001b[K     |█████████████████▋              | 860 kB 5.2 MB/s eta 0:00:01\r\u001b[K     |█████████████████▊              | 870 kB 5.2 MB/s eta 0:00:01\r\u001b[K     |██████████████████              | 880 kB 5.2 MB/s eta 0:00:01\r\u001b[K     |██████████████████▏             | 890 kB 5.2 MB/s eta 0:00:01\r\u001b[K     |██████████████████▍             | 901 kB 5.2 MB/s eta 0:00:01\r\u001b[K     |██████████████████▋             | 911 kB 5.2 MB/s eta 0:00:01\r\u001b[K     |██████████████████▉             | 921 kB 5.2 MB/s eta 0:00:01\r\u001b[K     |███████████████████             | 931 kB 5.2 MB/s eta 0:00:01\r\u001b[K     |███████████████████▎            | 942 kB 5.2 MB/s eta 0:00:01\r\u001b[K     |███████████████████▌            | 952 kB 5.2 MB/s eta 0:00:01\r\u001b[K     |███████████████████▋            | 962 kB 5.2 MB/s eta 0:00:01\r\u001b[K     |███████████████████▉            | 972 kB 5.2 MB/s eta 0:00:01\r\u001b[K     |████████████████████            | 983 kB 5.2 MB/s eta 0:00:01\r\u001b[K     |████████████████████▎           | 993 kB 5.2 MB/s eta 0:00:01\r\u001b[K     |████████████████████▌           | 1.0 MB 5.2 MB/s eta 0:00:01\r\u001b[K     |████████████████████▊           | 1.0 MB 5.2 MB/s eta 0:00:01\r\u001b[K     |█████████████████████           | 1.0 MB 5.2 MB/s eta 0:00:01\r\u001b[K     |█████████████████████▏          | 1.0 MB 5.2 MB/s eta 0:00:01\r\u001b[K     |█████████████████████▎          | 1.0 MB 5.2 MB/s eta 0:00:01\r\u001b[K     |█████████████████████▌          | 1.1 MB 5.2 MB/s eta 0:00:01\r\u001b[K     |█████████████████████▊          | 1.1 MB 5.2 MB/s eta 0:00:01\r\u001b[K     |██████████████████████          | 1.1 MB 5.2 MB/s eta 0:00:01\r\u001b[K     |██████████████████████▏         | 1.1 MB 5.2 MB/s eta 0:00:01\r\u001b[K     |██████████████████████▍         | 1.1 MB 5.2 MB/s eta 0:00:01\r\u001b[K     |██████████████████████▋         | 1.1 MB 5.2 MB/s eta 0:00:01\r\u001b[K     |██████████████████████▉         | 1.1 MB 5.2 MB/s eta 0:00:01\r\u001b[K     |███████████████████████         | 1.1 MB 5.2 MB/s eta 0:00:01\r\u001b[K     |███████████████████████▏        | 1.1 MB 5.2 MB/s eta 0:00:01\r\u001b[K     |███████████████████████▍        | 1.1 MB 5.2 MB/s eta 0:00:01\r\u001b[K     |███████████████████████▋        | 1.2 MB 5.2 MB/s eta 0:00:01\r\u001b[K     |███████████████████████▉        | 1.2 MB 5.2 MB/s eta 0:00:01\r\u001b[K     |████████████████████████        | 1.2 MB 5.2 MB/s eta 0:00:01\r\u001b[K     |████████████████████████▎       | 1.2 MB 5.2 MB/s eta 0:00:01\r\u001b[K     |████████████████████████▌       | 1.2 MB 5.2 MB/s eta 0:00:01\r\u001b[K     |████████████████████████▊       | 1.2 MB 5.2 MB/s eta 0:00:01\r\u001b[K     |████████████████████████▉       | 1.2 MB 5.2 MB/s eta 0:00:01\r\u001b[K     |█████████████████████████       | 1.2 MB 5.2 MB/s eta 0:00:01\r\u001b[K     |█████████████████████████▎      | 1.2 MB 5.2 MB/s eta 0:00:01\r\u001b[K     |█████████████████████████▌      | 1.2 MB 5.2 MB/s eta 0:00:01\r\u001b[K     |█████████████████████████▊      | 1.3 MB 5.2 MB/s eta 0:00:01\r\u001b[K     |██████████████████████████      | 1.3 MB 5.2 MB/s eta 0:00:01\r\u001b[K     |██████████████████████████▏     | 1.3 MB 5.2 MB/s eta 0:00:01\r\u001b[K     |██████████████████████████▍     | 1.3 MB 5.2 MB/s eta 0:00:01\r\u001b[K     |██████████████████████████▌     | 1.3 MB 5.2 MB/s eta 0:00:01\r\u001b[K     |██████████████████████████▊     | 1.3 MB 5.2 MB/s eta 0:00:01\r\u001b[K     |███████████████████████████     | 1.3 MB 5.2 MB/s eta 0:00:01\r\u001b[K     |███████████████████████████▏    | 1.3 MB 5.2 MB/s eta 0:00:01\r\u001b[K     |███████████████████████████▍    | 1.3 MB 5.2 MB/s eta 0:00:01\r\u001b[K     |███████████████████████████▋    | 1.4 MB 5.2 MB/s eta 0:00:01\r\u001b[K     |███████████████████████████▉    | 1.4 MB 5.2 MB/s eta 0:00:01\r\u001b[K     |████████████████████████████    | 1.4 MB 5.2 MB/s eta 0:00:01\r\u001b[K     |████████████████████████████▎   | 1.4 MB 5.2 MB/s eta 0:00:01\r\u001b[K     |████████████████████████████▍   | 1.4 MB 5.2 MB/s eta 0:00:01\r\u001b[K     |████████████████████████████▋   | 1.4 MB 5.2 MB/s eta 0:00:01\r\u001b[K     |████████████████████████████▉   | 1.4 MB 5.2 MB/s eta 0:00:01\r\u001b[K     |█████████████████████████████   | 1.4 MB 5.2 MB/s eta 0:00:01\r\u001b[K     |█████████████████████████████▎  | 1.4 MB 5.2 MB/s eta 0:00:01\r\u001b[K     |█████████████████████████████▌  | 1.4 MB 5.2 MB/s eta 0:00:01\r\u001b[K     |█████████████████████████████▊  | 1.5 MB 5.2 MB/s eta 0:00:01\r\u001b[K     |██████████████████████████████  | 1.5 MB 5.2 MB/s eta 0:00:01\r\u001b[K     |██████████████████████████████  | 1.5 MB 5.2 MB/s eta 0:00:01\r\u001b[K     |██████████████████████████████▎ | 1.5 MB 5.2 MB/s eta 0:00:01\r\u001b[K     |██████████████████████████████▌ | 1.5 MB 5.2 MB/s eta 0:00:01\r\u001b[K     |██████████████████████████████▊ | 1.5 MB 5.2 MB/s eta 0:00:01\r\u001b[K     |███████████████████████████████ | 1.5 MB 5.2 MB/s eta 0:00:01\r\u001b[K     |███████████████████████████████▏| 1.5 MB 5.2 MB/s eta 0:00:01\r\u001b[K     |███████████████████████████████▍| 1.5 MB 5.2 MB/s eta 0:00:01\r\u001b[K     |███████████████████████████████▋| 1.5 MB 5.2 MB/s eta 0:00:01\r\u001b[K     |███████████████████████████████▉| 1.6 MB 5.2 MB/s eta 0:00:01\r\u001b[K     |████████████████████████████████| 1.6 MB 5.2 MB/s eta 0:00:01\r\u001b[K     |████████████████████████████████| 1.6 MB 5.2 MB/s \n",
            "\u001b[?25h"
          ]
        }
      ]
    },
    {
      "cell_type": "code",
      "source": [
        "import torch\n",
        "import matplotlib.pyplot as plt\n",
        "import numpy as np\n",
        "from IPython.display import Image #this is to render predictions\n"
      ],
      "metadata": {
        "id": "au_oLIg7xloD"
      },
      "execution_count": null,
      "outputs": []
    },
    {
      "cell_type": "code",
      "source": [
        "!git clone https://github.com/ultralytics/yolov5\n"
      ],
      "metadata": {
        "colab": {
          "base_uri": "https://localhost:8080/"
        },
        "id": "1BZ9baZ3xn-O",
        "outputId": "6d6047c8-9431-46d6-fc06-312f7282024a"
      },
      "execution_count": null,
      "outputs": [
        {
          "output_type": "stream",
          "name": "stdout",
          "text": [
            "Cloning into 'yolov5'...\n",
            "remote: Enumerating objects: 14974, done.\u001b[K\n",
            "remote: Counting objects: 100% (14/14), done.\u001b[K\n",
            "remote: Compressing objects: 100% (11/11), done.\u001b[K\n",
            "remote: Total 14974 (delta 6), reused 9 (delta 3), pack-reused 14960\u001b[K\n",
            "Receiving objects: 100% (14974/14974), 13.65 MiB | 5.89 MiB/s, done.\n",
            "Resolving deltas: 100% (10344/10344), done.\n"
          ]
        }
      ]
    },
    {
      "cell_type": "code",
      "source": [
        "%cd yolov5\n"
      ],
      "metadata": {
        "colab": {
          "base_uri": "https://localhost:8080/"
        },
        "id": "7Q5OfejzxrEs",
        "outputId": "3c014377-0994-4dca-8330-91f00abe04f3"
      },
      "execution_count": 3,
      "outputs": [
        {
          "output_type": "stream",
          "name": "stdout",
          "text": [
            "/content/drive/MyDrive/Colab Notebooks/Computer_Vision/detection/pothole/yolov5\n"
          ]
        }
      ]
    },
    {
      "cell_type": "code",
      "source": [
        "!pip install -r requirements.txt"
      ],
      "metadata": {
        "id": "UfOfP87kxvDJ"
      },
      "execution_count": null,
      "outputs": []
    },
    {
      "cell_type": "code",
      "source": [
        "!python train.py --img 416 --batch 16 --epochs 30 --data coco.yaml --weights runs/train/exp/weights/best.pt --cache"
      ],
      "metadata": {
        "colab": {
          "base_uri": "https://localhost:8080/"
        },
        "id": "Y51sj1xAxvmm",
        "outputId": "a2bd585c-b227-4937-e55a-5e3a78f1b5ea"
      },
      "execution_count": 4,
      "outputs": [
        {
          "output_type": "stream",
          "name": "stdout",
          "text": [
            "\u001b[34m\u001b[1mtrain: \u001b[0mweights=runs/train/exp/weights/best.pt, cfg=, data=coco.yaml, hyp=data/hyps/hyp.scratch-low.yaml, epochs=30, batch_size=16, imgsz=416, rect=False, resume=False, nosave=False, noval=False, noautoanchor=False, noplots=False, evolve=None, bucket=, cache=ram, image_weights=False, device=, multi_scale=False, single_cls=False, optimizer=SGD, sync_bn=False, workers=8, project=runs/train, name=exp, exist_ok=False, quad=False, cos_lr=False, label_smoothing=0.0, patience=100, freeze=[0], save_period=-1, seed=0, local_rank=-1, entity=None, upload_dataset=False, bbox_interval=-1, artifact_alias=latest\n",
            "Command 'git fetch origin' timed out after 5 seconds\n",
            "\u001b[31m\u001b[1mrequirements:\u001b[0m YOLOv5 requirements \"ipython\" \"thop>=0.1.1\" not found, attempting AutoUpdate...\n",
            "Looking in indexes: https://pypi.org/simple, https://us-python.pkg.dev/colab-wheels/public/simple/\n",
            "Requirement already satisfied: ipython in /usr/local/lib/python3.7/dist-packages (7.9.0)\n",
            "Collecting thop>=0.1.1\n",
            "  Downloading thop-0.1.1.post2209072238-py3-none-any.whl (15 kB)\n",
            "Requirement already satisfied: torch in /usr/local/lib/python3.7/dist-packages (from thop>=0.1.1) (1.12.1+cu113)\n",
            "Requirement already satisfied: prompt-toolkit<2.1.0,>=2.0.0 in /usr/local/lib/python3.7/dist-packages (from ipython) (2.0.10)\n",
            "Requirement already satisfied: pexpect in /usr/local/lib/python3.7/dist-packages (from ipython) (4.8.0)\n",
            "Requirement already satisfied: decorator in /usr/local/lib/python3.7/dist-packages (from ipython) (4.4.2)\n",
            "Requirement already satisfied: pickleshare in /usr/local/lib/python3.7/dist-packages (from ipython) (0.7.5)\n",
            "Requirement already satisfied: traitlets>=4.2 in /usr/local/lib/python3.7/dist-packages (from ipython) (5.1.1)\n",
            "Requirement already satisfied: setuptools>=18.5 in /usr/local/lib/python3.7/dist-packages (from ipython) (57.4.0)\n",
            "Requirement already satisfied: backcall in /usr/local/lib/python3.7/dist-packages (from ipython) (0.2.0)\n",
            "Requirement already satisfied: pygments in /usr/local/lib/python3.7/dist-packages (from ipython) (2.6.1)\n",
            "Collecting jedi>=0.10\n",
            "  Downloading jedi-0.18.1-py2.py3-none-any.whl (1.6 MB)\n",
            "Requirement already satisfied: parso<0.9.0,>=0.8.0 in /usr/local/lib/python3.7/dist-packages (from jedi>=0.10->ipython) (0.8.3)\n",
            "Requirement already satisfied: wcwidth in /usr/local/lib/python3.7/dist-packages (from prompt-toolkit<2.1.0,>=2.0.0->ipython) (0.2.5)\n",
            "Requirement already satisfied: six>=1.9.0 in /usr/local/lib/python3.7/dist-packages (from prompt-toolkit<2.1.0,>=2.0.0->ipython) (1.15.0)\n",
            "Requirement already satisfied: ptyprocess>=0.5 in /usr/local/lib/python3.7/dist-packages (from pexpect->ipython) (0.7.0)\n",
            "Requirement already satisfied: typing-extensions in /usr/local/lib/python3.7/dist-packages (from torch->thop>=0.1.1) (4.1.1)\n",
            "Installing collected packages: jedi, thop\n",
            "Successfully installed jedi-0.18.1 thop-0.1.1.post2209072238\n",
            "\n",
            "\u001b[31m\u001b[1mrequirements:\u001b[0m 2 packages updated per /content/drive/MyDrive/Colab Notebooks/Computer_Vision/detection/pothole/yolov5/requirements.txt\n",
            "\u001b[31m\u001b[1mrequirements:\u001b[0m ⚠️ \u001b[1mRestart runtime or rerun command for updates to take effect\u001b[0m\n",
            "\n",
            "fatal: cannot change to '/content/drive/MyDrive/Colab': No such file or directory\n",
            "YOLOv5 🚀 2022-11-15 Python-3.7.15 torch-1.12.1+cu113 CUDA:0 (Tesla T4, 15110MiB)\n",
            "\n",
            "\u001b[34m\u001b[1mhyperparameters: \u001b[0mlr0=0.01, lrf=0.01, momentum=0.937, weight_decay=0.0005, warmup_epochs=3.0, warmup_momentum=0.8, warmup_bias_lr=0.1, box=0.05, cls=0.5, cls_pw=1.0, obj=1.0, obj_pw=1.0, iou_t=0.2, anchor_t=4.0, fl_gamma=0.0, hsv_h=0.015, hsv_s=0.7, hsv_v=0.4, degrees=0.0, translate=0.1, scale=0.5, shear=0.0, perspective=0.0, flipud=0.0, fliplr=0.5, mosaic=1.0, mixup=0.0, copy_paste=0.0\n",
            "\u001b[34m\u001b[1mClearML: \u001b[0mrun 'pip install clearml' to automatically track, visualize and remotely train YOLOv5 🚀 in ClearML\n",
            "\u001b[34m\u001b[1mComet: \u001b[0mrun 'pip install comet_ml' to automatically track and visualize YOLOv5 🚀 runs in Comet\n",
            "\u001b[34m\u001b[1mTensorBoard: \u001b[0mStart with 'tensorboard --logdir runs/train', view at http://localhost:6006/\n",
            "Downloading https://ultralytics.com/assets/Arial.ttf to /root/.config/Ultralytics/Arial.ttf...\n",
            "100% 755k/755k [00:00<00:00, 120MB/s]\n",
            "\n",
            "                 from  n    params  module                                  arguments                     \n",
            "  0                -1  1      3520  models.common.Conv                      [3, 32, 6, 2, 2]              \n",
            "  1                -1  1     18560  models.common.Conv                      [32, 64, 3, 2]                \n",
            "  2                -1  1     18816  models.common.C3                        [64, 64, 1]                   \n",
            "  3                -1  1     73984  models.common.Conv                      [64, 128, 3, 2]               \n",
            "  4                -1  2    115712  models.common.C3                        [128, 128, 2]                 \n",
            "  5                -1  1    295424  models.common.Conv                      [128, 256, 3, 2]              \n",
            "  6                -1  3    625152  models.common.C3                        [256, 256, 3]                 \n",
            "  7                -1  1   1180672  models.common.Conv                      [256, 512, 3, 2]              \n",
            "  8                -1  1   1182720  models.common.C3                        [512, 512, 1]                 \n",
            "  9                -1  1    656896  models.common.SPPF                      [512, 512, 5]                 \n",
            " 10                -1  1    131584  models.common.Conv                      [512, 256, 1, 1]              \n",
            " 11                -1  1         0  torch.nn.modules.upsampling.Upsample    [None, 2, 'nearest']          \n",
            " 12           [-1, 6]  1         0  models.common.Concat                    [1]                           \n",
            " 13                -1  1    361984  models.common.C3                        [512, 256, 1, False]          \n",
            " 14                -1  1     33024  models.common.Conv                      [256, 128, 1, 1]              \n",
            " 15                -1  1         0  torch.nn.modules.upsampling.Upsample    [None, 2, 'nearest']          \n",
            " 16           [-1, 4]  1         0  models.common.Concat                    [1]                           \n",
            " 17                -1  1     90880  models.common.C3                        [256, 128, 1, False]          \n",
            " 18                -1  1    147712  models.common.Conv                      [128, 128, 3, 2]              \n",
            " 19          [-1, 14]  1         0  models.common.Concat                    [1]                           \n",
            " 20                -1  1    296448  models.common.C3                        [256, 256, 1, False]          \n",
            " 21                -1  1    590336  models.common.Conv                      [256, 256, 3, 2]              \n",
            " 22          [-1, 10]  1         0  models.common.Concat                    [1]                           \n",
            " 23                -1  1   1182720  models.common.C3                        [512, 512, 1, False]          \n",
            " 24      [17, 20, 23]  1     16182  models.yolo.Detect                      [1, [[10, 13, 16, 30, 33, 23], [30, 61, 62, 45, 59, 119], [116, 90, 156, 198, 373, 326]], [128, 256, 512]]\n",
            "Model summary: 214 layers, 7022326 parameters, 7022326 gradients\n",
            "\n",
            "Transferred 349/349 items from runs/train/exp/weights/best.pt\n",
            "\u001b[34m\u001b[1mAMP: \u001b[0mchecks passed ✅\n",
            "\u001b[34m\u001b[1moptimizer:\u001b[0m SGD(lr=0.01) with parameter groups 57 weight(decay=0.0), 60 weight(decay=0.0005), 60 bias\n",
            "\u001b[34m\u001b[1malbumentations: \u001b[0mBlur(p=0.01, blur_limit=(3, 7)), MedianBlur(p=0.01, blur_limit=(3, 7)), ToGray(p=0.01), CLAHE(p=0.01, clip_limit=(1, 4.0), tile_grid_size=(8, 8))\n",
            "\u001b[34m\u001b[1mtrain: \u001b[0mScanning '/content/drive/MyDrive/Colab Notebooks/Computer_Vision/detection/pothole/train/labels.cache' images and labels... 465 found, 0 missing, 0 empty, 0 corrupt: 100% 465/465 [00:00<?, ?it/s]\n",
            "\u001b[34m\u001b[1mtrain: \u001b[0mCaching images (0.2GB ram): 100% 465/465 [00:06<00:00, 75.93it/s] \n",
            "\u001b[34m\u001b[1mval: \u001b[0mScanning '/content/drive/MyDrive/Colab Notebooks/Computer_Vision/detection/pothole/valid/labels.cache' images and labels... 133 found, 0 missing, 0 empty, 0 corrupt: 100% 133/133 [00:00<?, ?it/s]\n",
            "\u001b[34m\u001b[1mval: \u001b[0mCaching images (0.1GB ram): 100% 133/133 [00:01<00:00, 111.39it/s]\n",
            "\n",
            "\u001b[34m\u001b[1mAutoAnchor: \u001b[0m4.41 anchors/target, 0.999 Best Possible Recall (BPR). Current anchors are a good fit to dataset ✅\n",
            "Plotting labels to runs/train/exp3/labels.jpg... \n",
            "Image sizes 416 train, 416 val\n",
            "Using 2 dataloader workers\n",
            "Logging results to \u001b[1mruns/train/exp3\u001b[0m\n",
            "Starting training for 30 epochs...\n",
            "\n",
            "      Epoch    GPU_mem   box_loss   obj_loss   cls_loss  Instances       Size\n",
            "       0/29      1.71G    0.03181    0.02147          0          4        416: 100% 30/30 [00:10<00:00,  2.96it/s]\n",
            "                 Class     Images  Instances          P          R      mAP50   mAP50-95: 100% 5/5 [00:02<00:00,  2.47it/s]\n",
            "                   all        133        330      0.815        0.7      0.772      0.467\n",
            "\n",
            "      Epoch    GPU_mem   box_loss   obj_loss   cls_loss  Instances       Size\n",
            "       1/29       2.1G    0.03326    0.02065          0          3        416: 100% 30/30 [00:04<00:00,  6.36it/s]\n",
            "                 Class     Images  Instances          P          R      mAP50   mAP50-95: 100% 5/5 [00:00<00:00,  6.07it/s]\n",
            "                   all        133        330      0.851      0.691      0.783      0.453\n",
            "\n",
            "      Epoch    GPU_mem   box_loss   obj_loss   cls_loss  Instances       Size\n",
            "       2/29       2.1G    0.03761    0.02238          0          2        416: 100% 30/30 [00:04<00:00,  6.20it/s]\n",
            "                 Class     Images  Instances          P          R      mAP50   mAP50-95: 100% 5/5 [00:00<00:00,  6.15it/s]\n",
            "                   all        133        330      0.842      0.624      0.723       0.34\n",
            "\n",
            "      Epoch    GPU_mem   box_loss   obj_loss   cls_loss  Instances       Size\n",
            "       3/29       2.1G    0.03904    0.02094          0          1        416: 100% 30/30 [00:04<00:00,  6.38it/s]\n",
            "                 Class     Images  Instances          P          R      mAP50   mAP50-95: 100% 5/5 [00:00<00:00,  6.42it/s]\n",
            "                   all        133        330      0.749      0.636      0.699      0.331\n",
            "\n",
            "      Epoch    GPU_mem   box_loss   obj_loss   cls_loss  Instances       Size\n",
            "       4/29       2.1G    0.04079    0.02179          0         16        416: 100% 30/30 [00:04<00:00,  6.52it/s]\n",
            "                 Class     Images  Instances          P          R      mAP50   mAP50-95: 100% 5/5 [00:00<00:00,  6.12it/s]\n",
            "                   all        133        330        0.8      0.642      0.708      0.386\n",
            "\n",
            "      Epoch    GPU_mem   box_loss   obj_loss   cls_loss  Instances       Size\n",
            "       5/29       2.1G     0.0382       0.02          0          1        416: 100% 30/30 [00:04<00:00,  6.48it/s]\n",
            "                 Class     Images  Instances          P          R      mAP50   mAP50-95: 100% 5/5 [00:00<00:00,  6.32it/s]\n",
            "                   all        133        330       0.73      0.655      0.705      0.356\n",
            "\n",
            "      Epoch    GPU_mem   box_loss   obj_loss   cls_loss  Instances       Size\n",
            "       6/29       2.1G    0.03864    0.02278          0          6        416: 100% 30/30 [00:04<00:00,  6.52it/s]\n",
            "                 Class     Images  Instances          P          R      mAP50   mAP50-95: 100% 5/5 [00:00<00:00,  6.50it/s]\n",
            "                   all        133        330      0.779      0.658      0.747      0.361\n",
            "\n",
            "      Epoch    GPU_mem   box_loss   obj_loss   cls_loss  Instances       Size\n",
            "       7/29       2.1G     0.0365    0.02153          0          5        416: 100% 30/30 [00:04<00:00,  6.54it/s]\n",
            "                 Class     Images  Instances          P          R      mAP50   mAP50-95: 100% 5/5 [00:00<00:00,  6.24it/s]\n",
            "                   all        133        330      0.801      0.642       0.72      0.413\n",
            "\n",
            "      Epoch    GPU_mem   box_loss   obj_loss   cls_loss  Instances       Size\n",
            "       8/29       2.1G    0.03578    0.02188          0          4        416: 100% 30/30 [00:04<00:00,  6.48it/s]\n",
            "                 Class     Images  Instances          P          R      mAP50   mAP50-95: 100% 5/5 [00:00<00:00,  6.02it/s]\n",
            "                   all        133        330      0.804      0.682      0.747      0.389\n",
            "\n",
            "      Epoch    GPU_mem   box_loss   obj_loss   cls_loss  Instances       Size\n",
            "       9/29       2.1G    0.03461    0.02119          0          1        416: 100% 30/30 [00:04<00:00,  6.37it/s]\n",
            "                 Class     Images  Instances          P          R      mAP50   mAP50-95: 100% 5/5 [00:00<00:00,  6.27it/s]\n",
            "                   all        133        330      0.822      0.615      0.711       0.39\n",
            "\n",
            "      Epoch    GPU_mem   box_loss   obj_loss   cls_loss  Instances       Size\n",
            "      10/29       2.1G    0.03388     0.0203          0          5        416: 100% 30/30 [00:06<00:00,  4.57it/s]\n",
            "                 Class     Images  Instances          P          R      mAP50   mAP50-95: 100% 5/5 [00:00<00:00,  5.82it/s]\n",
            "                   all        133        330      0.735      0.697      0.739       0.42\n",
            "\n",
            "      Epoch    GPU_mem   box_loss   obj_loss   cls_loss  Instances       Size\n",
            "      11/29       2.1G    0.03239    0.02041          0          2        416: 100% 30/30 [00:04<00:00,  6.40it/s]\n",
            "                 Class     Images  Instances          P          R      mAP50   mAP50-95: 100% 5/5 [00:00<00:00,  6.43it/s]\n",
            "                   all        133        330      0.799      0.673      0.748      0.415\n",
            "\n",
            "      Epoch    GPU_mem   box_loss   obj_loss   cls_loss  Instances       Size\n",
            "      12/29       2.1G    0.03402    0.01934          0          2        416: 100% 30/30 [00:04<00:00,  6.57it/s]\n",
            "                 Class     Images  Instances          P          R      mAP50   mAP50-95: 100% 5/5 [00:00<00:00,  6.23it/s]\n",
            "                   all        133        330       0.83      0.642      0.756      0.447\n",
            "\n",
            "      Epoch    GPU_mem   box_loss   obj_loss   cls_loss  Instances       Size\n",
            "      13/29       2.1G    0.03202    0.02055          0          9        416: 100% 30/30 [00:04<00:00,  6.35it/s]\n",
            "                 Class     Images  Instances          P          R      mAP50   mAP50-95: 100% 5/5 [00:00<00:00,  6.28it/s]\n",
            "                   all        133        330      0.787      0.673      0.728      0.433\n",
            "\n",
            "      Epoch    GPU_mem   box_loss   obj_loss   cls_loss  Instances       Size\n",
            "      14/29       2.1G    0.03128    0.01992          0          5        416: 100% 30/30 [00:04<00:00,  6.50it/s]\n",
            "                 Class     Images  Instances          P          R      mAP50   mAP50-95: 100% 5/5 [00:00<00:00,  6.12it/s]\n",
            "                   all        133        330      0.793        0.6      0.694      0.375\n",
            "\n",
            "      Epoch    GPU_mem   box_loss   obj_loss   cls_loss  Instances       Size\n",
            "      15/29       2.1G    0.03124    0.01873          0          3        416: 100% 30/30 [00:04<00:00,  6.26it/s]\n",
            "                 Class     Images  Instances          P          R      mAP50   mAP50-95: 100% 5/5 [00:00<00:00,  5.95it/s]\n",
            "                   all        133        330      0.809      0.706      0.766      0.457\n",
            "\n",
            "      Epoch    GPU_mem   box_loss   obj_loss   cls_loss  Instances       Size\n",
            "      16/29       2.1G    0.03128    0.01888          0          5        416: 100% 30/30 [00:04<00:00,  6.57it/s]\n",
            "                 Class     Images  Instances          P          R      mAP50   mAP50-95: 100% 5/5 [00:00<00:00,  6.24it/s]\n",
            "                   all        133        330       0.85      0.638      0.756      0.405\n",
            "\n",
            "      Epoch    GPU_mem   box_loss   obj_loss   cls_loss  Instances       Size\n",
            "      17/29       2.1G    0.03177    0.01926          0          2        416: 100% 30/30 [00:04<00:00,  6.50it/s]\n",
            "                 Class     Images  Instances          P          R      mAP50   mAP50-95: 100% 5/5 [00:00<00:00,  6.12it/s]\n",
            "                   all        133        330      0.806      0.652      0.756      0.438\n",
            "\n",
            "      Epoch    GPU_mem   box_loss   obj_loss   cls_loss  Instances       Size\n",
            "      18/29       2.1G    0.03068     0.0213          0          7        416: 100% 30/30 [00:04<00:00,  6.38it/s]\n",
            "                 Class     Images  Instances          P          R      mAP50   mAP50-95: 100% 5/5 [00:00<00:00,  6.15it/s]\n",
            "                   all        133        330      0.784      0.682      0.758       0.46\n",
            "\n",
            "      Epoch    GPU_mem   box_loss   obj_loss   cls_loss  Instances       Size\n",
            "      19/29       2.1G    0.02805    0.01785          0          1        416: 100% 30/30 [00:04<00:00,  6.35it/s]\n",
            "                 Class     Images  Instances          P          R      mAP50   mAP50-95: 100% 5/5 [00:00<00:00,  5.44it/s]\n",
            "                   all        133        330      0.865       0.66      0.759      0.454\n",
            "\n",
            "      Epoch    GPU_mem   box_loss   obj_loss   cls_loss  Instances       Size\n",
            "      20/29       2.1G    0.02855    0.01799          0          6        416: 100% 30/30 [00:05<00:00,  5.06it/s]\n",
            "                 Class     Images  Instances          P          R      mAP50   mAP50-95: 100% 5/5 [00:00<00:00,  5.95it/s]\n",
            "                   all        133        330      0.788      0.685      0.751      0.445\n",
            "\n",
            "      Epoch    GPU_mem   box_loss   obj_loss   cls_loss  Instances       Size\n",
            "      21/29       2.1G    0.02891    0.02005          0         14        416: 100% 30/30 [00:04<00:00,  6.49it/s]\n",
            "                 Class     Images  Instances          P          R      mAP50   mAP50-95: 100% 5/5 [00:00<00:00,  6.39it/s]\n",
            "                   all        133        330      0.843      0.673      0.772      0.464\n",
            "\n",
            "      Epoch    GPU_mem   box_loss   obj_loss   cls_loss  Instances       Size\n",
            "      22/29       2.1G    0.02801     0.0185          0          2        416: 100% 30/30 [00:04<00:00,  6.56it/s]\n",
            "                 Class     Images  Instances          P          R      mAP50   mAP50-95: 100% 5/5 [00:00<00:00,  6.30it/s]\n",
            "                   all        133        330       0.82       0.67       0.76      0.459\n",
            "\n",
            "      Epoch    GPU_mem   box_loss   obj_loss   cls_loss  Instances       Size\n",
            "      23/29       2.1G      0.027    0.01966          0          2        416: 100% 30/30 [00:04<00:00,  6.38it/s]\n",
            "                 Class     Images  Instances          P          R      mAP50   mAP50-95: 100% 5/5 [00:00<00:00,  6.35it/s]\n",
            "                   all        133        330      0.828      0.658      0.752      0.458\n",
            "\n",
            "      Epoch    GPU_mem   box_loss   obj_loss   cls_loss  Instances       Size\n",
            "      24/29       2.1G    0.02789     0.0188          0          2        416: 100% 30/30 [00:04<00:00,  6.56it/s]\n",
            "                 Class     Images  Instances          P          R      mAP50   mAP50-95: 100% 5/5 [00:00<00:00,  5.95it/s]\n",
            "                   all        133        330      0.829      0.664      0.764      0.471\n",
            "\n",
            "      Epoch    GPU_mem   box_loss   obj_loss   cls_loss  Instances       Size\n",
            "      25/29       2.1G     0.0279    0.01879          0          3        416: 100% 30/30 [00:04<00:00,  6.25it/s]\n",
            "                 Class     Images  Instances          P          R      mAP50   mAP50-95: 100% 5/5 [00:00<00:00,  6.12it/s]\n",
            "                   all        133        330      0.867      0.652       0.77      0.485\n",
            "\n",
            "      Epoch    GPU_mem   box_loss   obj_loss   cls_loss  Instances       Size\n",
            "      26/29       2.1G    0.02713    0.01821          0          1        416: 100% 30/30 [00:04<00:00,  6.38it/s]\n",
            "                 Class     Images  Instances          P          R      mAP50   mAP50-95: 100% 5/5 [00:00<00:00,  6.21it/s]\n",
            "                   all        133        330      0.836      0.662      0.769      0.482\n",
            "\n",
            "      Epoch    GPU_mem   box_loss   obj_loss   cls_loss  Instances       Size\n",
            "      27/29       2.1G    0.02851    0.02011          0          9        416: 100% 30/30 [00:04<00:00,  6.22it/s]\n",
            "                 Class     Images  Instances          P          R      mAP50   mAP50-95: 100% 5/5 [00:00<00:00,  6.34it/s]\n",
            "                   all        133        330      0.843      0.684      0.769      0.483\n",
            "\n",
            "      Epoch    GPU_mem   box_loss   obj_loss   cls_loss  Instances       Size\n",
            "      28/29       2.1G    0.02755    0.01759          0          3        416: 100% 30/30 [00:04<00:00,  6.38it/s]\n",
            "                 Class     Images  Instances          P          R      mAP50   mAP50-95: 100% 5/5 [00:00<00:00,  6.25it/s]\n",
            "                   all        133        330      0.846      0.652      0.764      0.478\n",
            "\n",
            "      Epoch    GPU_mem   box_loss   obj_loss   cls_loss  Instances       Size\n",
            "      29/29       2.1G    0.02694    0.01898          0          1        416: 100% 30/30 [00:04<00:00,  6.37it/s]\n",
            "                 Class     Images  Instances          P          R      mAP50   mAP50-95: 100% 5/5 [00:00<00:00,  5.88it/s]\n",
            "                   all        133        330      0.838      0.652      0.758      0.476\n",
            "\n",
            "30 epochs completed in 0.052 hours.\n",
            "Optimizer stripped from runs/train/exp3/weights/last.pt, 14.3MB\n",
            "Optimizer stripped from runs/train/exp3/weights/best.pt, 14.3MB\n",
            "\n",
            "Validating runs/train/exp3/weights/best.pt...\n",
            "Fusing layers... \n",
            "Model summary: 157 layers, 7012822 parameters, 0 gradients\n",
            "                 Class     Images  Instances          P          R      mAP50   mAP50-95: 100% 5/5 [00:03<00:00,  1.35it/s]\n",
            "                   all        133        330      0.866      0.652       0.77      0.484\n",
            "Results saved to \u001b[1mruns/train/exp3\u001b[0m\n"
          ]
        }
      ]
    },
    {
      "cell_type": "markdown",
      "source": [
        "validating the model"
      ],
      "metadata": {
        "id": "iZ-QOaC1vXTv"
      }
    },
    {
      "cell_type": "code",
      "source": [
        "%cd /content/drive/MyDrive/Colab Notebooks/Computer_Vision/detection/pothole/yolov5"
      ],
      "metadata": {
        "id": "-xh3t6h3wMuO",
        "outputId": "dacd7e01-cd94-4f79-87f6-606c5c466456",
        "colab": {
          "base_uri": "https://localhost:8080/"
        }
      },
      "execution_count": 1,
      "outputs": [
        {
          "output_type": "stream",
          "name": "stdout",
          "text": [
            "/content/drive/MyDrive/Colab Notebooks/Computer_Vision/detection/pothole/yolov5\n"
          ]
        }
      ]
    },
    {
      "cell_type": "code",
      "source": [
        "!python val.py --weights runs/train/exp3/weights/best.pt --data data/coco.yaml --img 416 --half"
      ],
      "metadata": {
        "id": "MpS0MZ3A0LgO",
        "colab": {
          "base_uri": "https://localhost:8080/"
        },
        "outputId": "952ebfe0-209e-4ba2-eb11-9e4e203c498b"
      },
      "execution_count": 2,
      "outputs": [
        {
          "output_type": "stream",
          "name": "stdout",
          "text": [
            "\u001b[34m\u001b[1mval: \u001b[0mdata=data/coco.yaml, weights=['runs/train/exp3/weights/best.pt'], batch_size=32, imgsz=416, conf_thres=0.001, iou_thres=0.6, max_det=300, task=val, device=, workers=8, single_cls=False, augment=False, verbose=False, save_txt=False, save_hybrid=False, save_conf=False, save_json=True, project=runs/val, name=exp, exist_ok=False, half=True, dnn=False\n",
            "\u001b[31m\u001b[1mrequirements:\u001b[0m YOLOv5 requirement \"ipython\" not found, attempting AutoUpdate...\n",
            "Looking in indexes: https://pypi.org/simple, https://us-python.pkg.dev/colab-wheels/public/simple/\n",
            "Requirement already satisfied: ipython in /usr/local/lib/python3.7/dist-packages (7.9.0)\n",
            "Requirement already satisfied: setuptools>=18.5 in /usr/local/lib/python3.7/dist-packages (from ipython) (57.4.0)\n",
            "Requirement already satisfied: traitlets>=4.2 in /usr/local/lib/python3.7/dist-packages (from ipython) (5.1.1)\n",
            "Requirement already satisfied: decorator in /usr/local/lib/python3.7/dist-packages (from ipython) (4.4.2)\n",
            "Collecting jedi>=0.10\n",
            "  Downloading jedi-0.18.1-py2.py3-none-any.whl (1.6 MB)\n",
            "Requirement already satisfied: backcall in /usr/local/lib/python3.7/dist-packages (from ipython) (0.2.0)\n",
            "Requirement already satisfied: pexpect in /usr/local/lib/python3.7/dist-packages (from ipython) (4.8.0)\n",
            "Requirement already satisfied: pickleshare in /usr/local/lib/python3.7/dist-packages (from ipython) (0.7.5)\n",
            "Requirement already satisfied: prompt-toolkit<2.1.0,>=2.0.0 in /usr/local/lib/python3.7/dist-packages (from ipython) (2.0.10)\n",
            "Requirement already satisfied: pygments in /usr/local/lib/python3.7/dist-packages (from ipython) (2.6.1)\n",
            "Requirement already satisfied: parso<0.9.0,>=0.8.0 in /usr/local/lib/python3.7/dist-packages (from jedi>=0.10->ipython) (0.8.3)\n",
            "Requirement already satisfied: six>=1.9.0 in /usr/local/lib/python3.7/dist-packages (from prompt-toolkit<2.1.0,>=2.0.0->ipython) (1.15.0)\n",
            "Requirement already satisfied: wcwidth in /usr/local/lib/python3.7/dist-packages (from prompt-toolkit<2.1.0,>=2.0.0->ipython) (0.2.5)\n",
            "Requirement already satisfied: ptyprocess>=0.5 in /usr/local/lib/python3.7/dist-packages (from pexpect->ipython) (0.7.0)\n",
            "Installing collected packages: jedi\n",
            "Successfully installed jedi-0.18.1\n",
            "\n",
            "\u001b[31m\u001b[1mrequirements:\u001b[0m 1 package updated per /content/drive/MyDrive/Colab Notebooks/Computer_Vision/detection/pothole/yolov5/requirements.txt\n",
            "\u001b[31m\u001b[1mrequirements:\u001b[0m ⚠️ \u001b[1mRestart runtime or rerun command for updates to take effect\u001b[0m\n",
            "\n",
            "fatal: cannot change to '/content/drive/MyDrive/Colab': No such file or directory\n",
            "YOLOv5 🚀 2022-11-15 Python-3.7.15 torch-1.12.1+cu113 CUDA:0 (Tesla T4, 15110MiB)\n",
            "\n",
            "Fusing layers... \n",
            "Model summary: 157 layers, 7012822 parameters, 0 gradients\n",
            "Downloading https://ultralytics.com/assets/Arial.ttf to /root/.config/Ultralytics/Arial.ttf...\n",
            "100% 755k/755k [00:00<00:00, 1.56MB/s]\n",
            "\u001b[34m\u001b[1mval: \u001b[0mScanning '/content/drive/MyDrive/Colab Notebooks/Computer_Vision/detection/pothole/valid/labels.cache' images and labels... 133 found, 0 missing, 0 empty, 0 corrupt: 100% 133/133 [00:00<?, ?it/s]\n",
            "                 Class     Images  Instances          P          R      mAP50   mAP50-95: 100% 5/5 [00:06<00:00,  1.28s/it]\n",
            "                   all        133        330      0.866      0.652       0.77      0.484\n",
            "Speed: 0.5ms pre-process, 6.3ms inference, 5.3ms NMS per image at shape (32, 3, 416, 416)\n",
            "\n",
            "Evaluating pycocotools mAP... saving runs/val/exp/best_predictions.json...\n",
            "loading annotations into memory...\n",
            "pycocotools unable to run: [Errno 2] No such file or directory: '/content/drive/MyDrive/Colab Notebooks/Computer_Vision/detection/pothole/yolov5/annotations/instances_val2017.json'\n",
            "Results saved to \u001b[1mruns/val/exp\u001b[0m\n"
          ]
        }
      ]
    },
    {
      "cell_type": "code",
      "source": [
        "!python detect.py --weights runs/train/exp3/weights/best.pt --img 416 --conf 0.25 --source testing_data/download.jpeg"
      ],
      "metadata": {
        "id": "7ezO3IAZwRci"
      },
      "execution_count": null,
      "outputs": []
    }
  ]
}